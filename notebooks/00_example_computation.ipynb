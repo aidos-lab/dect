{
 "cells": [
  {
   "cell_type": "code",
   "execution_count": 2,
   "metadata": {
    "ExecuteTime": {
     "end_time": "2025-02-17T16:49:13.178247Z",
     "start_time": "2025-02-17T16:49:11.570883Z"
    }
   },
   "outputs": [],
   "source": [
    "import torch "
   ]
  },
  {
   "cell_type": "code",
   "execution_count": 3,
   "metadata": {
    "ExecuteTime": {
     "end_time": "2025-02-18T10:58:15.087572Z",
     "start_time": "2025-02-18T10:58:15.044323Z"
    }
   },
   "outputs": [
    {
     "data": {
      "text/plain": [
       "tensor([[ 0.5000,  0.0000],\n",
       "        [-0.5000,  0.0000],\n",
       "        [ 0.5000,  0.5000]])"
      ]
     },
     "execution_count": 3,
     "metadata": {},
     "output_type": "execute_result"
    }
   ],
   "source": [
    "# Basic dataset with three points,three edges and one face.\n",
    "points_coordinates = torch.tensor([[0.5, 0.0], [-0.5, 0.0], [0.5, 0.5]])\n",
    "\n",
    "# edge_index describes the edges in the pytorch geometric convention, i.e., the first edge is 0,1; the second edge is 1,2 and the third edge is 2,0.\n",
    "edge_index=torch.tensor([[0, 1, 2], [1, 2, 0]], dtype=torch.long)\n",
    "face_index=torch.tensor([[0], [1], [2]], dtype=torch.long)\n",
    "\n",
    "points_coordinates"
   ]
  },
  {
   "cell_type": "code",
   "execution_count": 4,
   "metadata": {
    "ExecuteTime": {
     "end_time": "2025-02-18T11:24:26.184243Z",
     "start_time": "2025-02-18T11:24:26.180964Z"
    }
   },
   "outputs": [
    {
     "data": {
      "text/plain": [
       "tensor([[ 0.0000e+00,  1.0000e+00],\n",
       "        [ 1.0000e+00, -4.3711e-08]])"
      ]
     },
     "execution_count": 4,
     "metadata": {},
     "output_type": "execute_result"
    }
   ],
   "source": [
    "# We pick two direction between 0 and 2*pi\n",
    "\n",
    "n_directions = 2\n",
    "theta1 = torch.tensor(0.0)\n",
    "theta2 = torch.tensor(torch.pi/2.)\n",
    "\n",
    "# The xi needs to be transposed, as we want to multiply the points_coordinates with the direction vectors via matrix multiplication\n",
    "xi = torch.tensor([[torch.sin(theta1),torch.cos(theta1)], [torch.sin(theta2),torch.cos(theta2)]]).T\n",
    "xi"
   ]
  },
  {
   "cell_type": "code",
   "execution_count": 5,
   "metadata": {
    "ExecuteTime": {
     "end_time": "2025-02-18T11:38:16.853497Z",
     "start_time": "2025-02-18T11:38:16.847586Z"
    }
   },
   "outputs": [
    {
     "data": {
      "text/plain": [
       "tensor([[ 0.0000,  0.5000],\n",
       "        [ 0.0000, -0.5000],\n",
       "        [ 0.5000,  0.5000]])"
      ]
     },
     "execution_count": 5,
     "metadata": {},
     "output_type": "execute_result"
    }
   ],
   "source": [
    "# Next we compute the node heights as the matrix product of the vertex coordinates \n",
    "# and the directions. This results in a matrix of shape (n_points, n_directions)\n",
    "\n",
    "node_heigth = points_coordinates @ xi\n",
    "assert node_heigth.shape == (points_coordinates.shape[0], n_directions)\n",
    "node_heigth"
   ]
  },
  {
   "cell_type": "code",
   "execution_count": 6,
   "metadata": {
    "ExecuteTime": {
     "end_time": "2025-02-18T11:38:46.709363Z",
     "start_time": "2025-02-18T11:38:46.699536Z"
    }
   },
   "outputs": [
    {
     "data": {
      "text/plain": [
       "tensor([[0.0000, 0.5000],\n",
       "        [0.5000, 0.5000],\n",
       "        [0.5000, 0.5000]])"
      ]
     },
     "execution_count": 6,
     "metadata": {},
     "output_type": "execute_result"
    }
   ],
   "source": [
    "# The \"height\" of each edge is defined as the maximum of the node heights of the \n",
    "# vertices it is spanned by as only then the complete edge is included. Since \n",
    "# the edge indices are given as tuples, we look up the edge height tuples in the \n",
    "# node heights vector (indexing is the same) and compute the column-wise maximum. \n",
    "\n",
    "edge_height_tuples = node_heigth[edge_index]\n",
    "edge_height = edge_height_tuples.max(dim=0)[0]\n",
    "edge_height"
   ]
  },
  {
   "cell_type": "code",
   "execution_count": 7,
   "metadata": {
    "ExecuteTime": {
     "end_time": "2025-02-18T11:38:47.860029Z",
     "start_time": "2025-02-18T11:38:47.854327Z"
    }
   },
   "outputs": [
    {
     "data": {
      "text/plain": [
       "tensor([[0.5000, 0.5000]])"
      ]
     },
     "execution_count": 7,
     "metadata": {},
     "output_type": "execute_result"
    }
   ],
   "source": [
    "# For the face heights we perform the same computation.\n",
    "face_height_tuples = node_heigth[face_index]\n",
    "face_height = face_height_tuples.max(dim=0)[0]\n",
    "face_height"
   ]
  },
  {
   "cell_type": "code",
   "execution_count": 8,
   "metadata": {
    "ExecuteTime": {
     "end_time": "2025-02-18T11:43:02.443727Z",
     "start_time": "2025-02-18T11:43:02.441492Z"
    }
   },
   "outputs": [],
   "source": [
    "# For the first direction the two critical points are 0 and 1/2 and these are the places the ect changes. \n",
    "# Below zero the ecc is zero, between 0 and 1/2 it is 2-1 = 1 (2 points 1 edges)\n",
    "# and above 1/2 it is 3-3+1=1. \n",
    "\n",
    "# For the second direction the critical points are -1/2 and 1/2. Below -1/2 the ecc is 0, between -1/2 and 1/2,\n",
    "# the ect is 1 (1 point) and above 1/2 it is 3-3+1=1 (3 points, 3 edges, 1 face).\n",
    "\n",
    "# We find these numbers by counting all the points edges and faces below a certain\n",
    "# value. "
   ]
  },
  {
   "cell_type": "code",
   "execution_count": 9,
   "metadata": {
    "ExecuteTime": {
     "end_time": "2025-02-18T12:09:10.454538Z",
     "start_time": "2025-02-18T12:09:10.448003Z"
    }
   },
   "outputs": [
    {
     "data": {
      "text/plain": [
       "tensor([[0., 0., 0.],\n",
       "        [0., 0., 0.],\n",
       "        [0., 0., 0.],\n",
       "        [0., 0., 0.],\n",
       "        [0., 0., 0.],\n",
       "        [0., 0., 0.],\n",
       "        [0., 0., 0.],\n",
       "        [0., 0., 0.],\n",
       "        [0., 0., 0.],\n",
       "        [0., 0., 0.],\n",
       "        [0., 0., 0.],\n",
       "        [0., 0., 0.],\n",
       "        [1., 0., 1.],\n",
       "        [1., 0., 1.],\n",
       "        [1., 0., 1.],\n",
       "        [1., 0., 1.],\n",
       "        [1., 0., 1.],\n",
       "        [1., 0., 1.],\n",
       "        [1., 1., 1.],\n",
       "        [1., 1., 1.],\n",
       "        [1., 1., 1.],\n",
       "        [1., 1., 1.],\n",
       "        [1., 1., 1.],\n",
       "        [1., 1., 1.],\n",
       "        [1., 1., 1.]])"
      ]
     },
     "execution_count": 9,
     "metadata": {},
     "output_type": "execute_result"
    }
   ],
   "source": [
    "# Instead of counting points, we assign each element an indicator function that \n",
    "# zero below the critical point and 1 above it. \n",
    "# To do so, we translate the indicator function for each point, edge and face. \n",
    "\n",
    "# Discretize interval in 25 steps\n",
    "interval = torch.stack([torch.linspace(-1,1,25) for _ in range(n_directions)], dim=1).view(-1, n_directions, 1)\n",
    "\n",
    "# we shift the interval by the height of each element and then apply\n",
    "# the Heaviside step function, which is 0 for negative values and 1 for \n",
    "# non-negative values.\n",
    "translated_nodes =  interval - node_heigth.view(1,n_directions,-1) \n",
    "\n",
    "ecc_points = torch.heaviside(translated_nodes,values=torch.tensor([1.0]))\n",
    "\n",
    "# For each direction and point, this will give us an indicator function, i.e., the shape needs to be (25, n_directions, n_points)\n",
    "assert ecc_points.shape == (25, n_directions, points_coordinates.shape[0])\n",
    "ecc_points[:,0]"
   ]
  },
  {
   "cell_type": "code",
   "execution_count": 10,
   "metadata": {
    "ExecuteTime": {
     "end_time": "2025-02-17T17:08:03.784467Z",
     "start_time": "2025-02-17T17:08:03.781507Z"
    }
   },
   "outputs": [],
   "source": [
    "# Note that for the first direction the 0 is at index 13 and 1/2 is at index 18. Indeed this is where \n",
    "# the curves change value. \n",
    "\n",
    "# We do the same for the faces and edges."
   ]
  },
  {
   "cell_type": "code",
   "execution_count": 11,
   "metadata": {
    "ExecuteTime": {
     "end_time": "2025-02-18T12:10:22.613942Z",
     "start_time": "2025-02-18T12:10:22.607138Z"
    }
   },
   "outputs": [
    {
     "data": {
      "text/plain": [
       "tensor([[0., 0., 0.],\n",
       "        [0., 0., 0.],\n",
       "        [0., 0., 0.],\n",
       "        [0., 0., 0.],\n",
       "        [0., 0., 0.],\n",
       "        [0., 0., 0.],\n",
       "        [0., 0., 0.],\n",
       "        [0., 0., 0.],\n",
       "        [0., 0., 0.],\n",
       "        [0., 0., 0.],\n",
       "        [0., 0., 0.],\n",
       "        [0., 0., 0.],\n",
       "        [1., 0., 0.],\n",
       "        [1., 0., 0.],\n",
       "        [1., 0., 0.],\n",
       "        [1., 0., 0.],\n",
       "        [1., 0., 0.],\n",
       "        [1., 0., 0.],\n",
       "        [1., 1., 1.],\n",
       "        [1., 1., 1.],\n",
       "        [1., 1., 1.],\n",
       "        [1., 1., 1.],\n",
       "        [1., 1., 1.],\n",
       "        [1., 1., 1.],\n",
       "        [1., 1., 1.]])"
      ]
     },
     "execution_count": 11,
     "metadata": {},
     "output_type": "execute_result"
    }
   ],
   "source": [
    "# Discretize interval in 25 steps\n",
    "interval = torch.stack([torch.linspace(-1,1,25) for _ in range(n_directions)], dim=1).view(-1, n_directions,1)\n",
    "\n",
    "translated_edges = interval - edge_height.view(1,n_directions,-1)\n",
    "ecc_edges = torch.heaviside(translated_edges,values=torch.tensor([1.0]))\n",
    "\n",
    "# For each direction and edge, this will give us an indicator function, i.e., the shape needs to be (25, n_directions, n_edges)\n",
    "assert ecc_edges.shape == (25, n_directions, edge_index.shape[1])\n",
    "ecc_edges[:,0]"
   ]
  },
  {
   "cell_type": "code",
   "execution_count": 12,
   "metadata": {
    "ExecuteTime": {
     "end_time": "2025-02-18T12:11:36.103953Z",
     "start_time": "2025-02-18T12:11:36.096925Z"
    }
   },
   "outputs": [
    {
     "data": {
      "text/plain": [
       "tensor([[0.],\n",
       "        [0.],\n",
       "        [0.],\n",
       "        [0.],\n",
       "        [0.],\n",
       "        [0.],\n",
       "        [0.],\n",
       "        [0.],\n",
       "        [0.],\n",
       "        [0.],\n",
       "        [0.],\n",
       "        [0.],\n",
       "        [0.],\n",
       "        [0.],\n",
       "        [0.],\n",
       "        [0.],\n",
       "        [0.],\n",
       "        [0.],\n",
       "        [1.],\n",
       "        [1.],\n",
       "        [1.],\n",
       "        [1.],\n",
       "        [1.],\n",
       "        [1.],\n",
       "        [1.]])"
      ]
     },
     "execution_count": 12,
     "metadata": {},
     "output_type": "execute_result"
    }
   ],
   "source": [
    "# Discretize interval in 25 steps\n",
    "interval = torch.stack([torch.linspace(-1,1,25).view(-1,1) for _ in range(n_directions)], dim=1).view(-1, n_directions,1)\n",
    "\n",
    "translated_faces = interval - face_height.view(1,n_directions,-1)  \n",
    "ecc_faces = torch.heaviside(translated_faces,values=torch.tensor([1.0]))\n",
    "\n",
    "# For each direction and edge, this will give us an indicator function, i.e., the shape needs to be (25, n_directions, n_faces)\n",
    "assert ecc_faces.shape == (25, n_directions, face_index.shape[1])\n",
    "ecc_faces[:,0]"
   ]
  },
  {
   "cell_type": "code",
   "execution_count": 13,
   "metadata": {
    "ExecuteTime": {
     "end_time": "2025-02-18T12:29:04.909591Z",
     "start_time": "2025-02-18T12:29:04.904093Z"
    }
   },
   "outputs": [
    {
     "data": {
      "text/plain": [
       "tensor([[0., 0.],\n",
       "        [0., 0.],\n",
       "        [0., 0.],\n",
       "        [0., 0.],\n",
       "        [0., 0.],\n",
       "        [0., 0.],\n",
       "        [0., 1.],\n",
       "        [0., 1.],\n",
       "        [0., 1.],\n",
       "        [0., 1.],\n",
       "        [0., 1.],\n",
       "        [0., 1.],\n",
       "        [1., 1.],\n",
       "        [1., 1.],\n",
       "        [1., 1.],\n",
       "        [1., 1.],\n",
       "        [1., 1.],\n",
       "        [1., 1.],\n",
       "        [1., 1.],\n",
       "        [1., 1.],\n",
       "        [1., 1.],\n",
       "        [1., 1.],\n",
       "        [1., 1.],\n",
       "        [1., 1.],\n",
       "        [1., 1.]])"
      ]
     },
     "execution_count": 13,
     "metadata": {},
     "output_type": "execute_result"
    }
   ],
   "source": [
    "# The ect along this direction is then computed by first computing the sum of\n",
    "# columns in each of the three matrices and then by computing the \n",
    "# alternating sum of the three matrices.\n",
    "\n",
    "ecc = ecc_points.sum(axis=-1) - ecc_edges.sum(axis=-1) + ecc_faces.sum(axis=-1) \n",
    "ecc"
   ]
  },
  {
   "cell_type": "code",
   "execution_count": 14,
   "metadata": {
    "ExecuteTime": {
     "end_time": "2025-02-18T12:29:32.714690Z",
     "start_time": "2025-02-18T12:29:32.711856Z"
    }
   },
   "outputs": [],
   "source": [
    "# We can indeed verify that for the first direction at index 13 the value changes from 0 to 1 (which is)\n",
    "# the origin in our coordinate system."
   ]
  }
 ],
 "metadata": {
  "kernelspec": {
   "display_name": "dect-nix5GVEh-py3.12",
   "language": "python",
   "name": "python3"
  },
  "language_info": {
   "codemirror_mode": {
    "name": "ipython",
    "version": 3
   },
   "file_extension": ".py",
   "mimetype": "text/x-python",
   "name": "python",
   "nbconvert_exporter": "python",
   "pygments_lexer": "ipython3",
   "version": "3.12.8"
  }
 },
 "nbformat": 4,
 "nbformat_minor": 2
}
