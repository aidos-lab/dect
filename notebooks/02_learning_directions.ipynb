{
 "cells": [
  {
   "cell_type": "markdown",
   "metadata": {},
   "source": [
    "# NOTE: Is not up to date. TBD"
   ]
  },
  {
   "cell_type": "markdown",
   "metadata": {},
   "source": [
    "# Learning and optimizing over directions\n",
    "\n",
    "This notebook provides some examples on generating and working with directions \n",
    "in our package. \n",
    "We provide a conceptual overview on how directions are generated and how one might\n",
    "go about learning a particular set of directions for a given problem."
   ]
  },
  {
   "cell_type": "code",
   "execution_count": 64,
   "metadata": {},
   "outputs": [
    {
     "name": "stdout",
     "output_type": "stream",
     "text": [
      "The autoreload extension is already loaded. To reload it, use:\n",
      "  %reload_ext autoreload\n"
     ]
    }
   ],
   "source": [
    "%load_ext autoreload\n",
    "%autoreload 2\n",
    "\n",
    "import torch \n",
    "from torch import nn\n",
    "from torch_geometric. data import Data, Batch\n",
    "import matplotlib.pyplot as plt\n",
    "\n",
    "\n",
    "from dect.directions import generate_2d_directions\n",
    "from dect.nn import ECTLayer, ECTConfig\n",
    "\n",
    "# Set up hardware configurations\n",
    "DEVICE = \"cuda:0\""
   ]
  },
  {
   "cell_type": "markdown",
   "metadata": {},
   "source": [
    "The direction vectors are always in the format `[ndims,num_thetas]` where\n",
    "`ndims` is the dimension of the ambient space and `num_thetas` is the number of\n",
    "directions used. Optionally if one is interested in multiple sets of directions \n",
    "we can provide the directions as a vector of size `[num_channels,ndims,num_thetas]`\n",
    "in which case we will returned a set of images with each channel corresponding to \n",
    "an ECT with those directions. An example of that use case is shown at the end \n",
    "of this notebook."
   ]
  },
  {
   "cell_type": "code",
   "execution_count": 65,
   "metadata": {},
   "outputs": [
    {
     "name": "stdout",
     "output_type": "stream",
     "text": [
      "torch.Size([2, 128])\n"
     ]
    }
   ],
   "source": [
    "# Generate 128 uniformly spaced directions in two dimensions.\n",
    "num_thetas = 128\n",
    "v = torch.vstack(\n",
    "        [\n",
    "            torch.sin(torch.linspace(0, torch.pi, num_thetas)),\n",
    "            torch.cos(torch.linspace(0, torch.pi, num_thetas)),\n",
    "        ]\n",
    "    )\n",
    "\n",
    "# Output shape\n",
    "print(v.shape)\n"
   ]
  },
  {
   "cell_type": "markdown",
   "metadata": {},
   "source": [
    "# Learning Directions\n",
    "\n",
    "Now we wish to learn the direction (the uniform angles) that generated the ECT\n",
    "in the previous example.\n",
    "\n",
    "In order to do so, we initialize all the directions in one spot and make them\n",
    "learnable. For a loss function we use the MSE between the groundtruth and\n",
    "approximation. "
   ]
  },
  {
   "cell_type": "code",
   "execution_count": 66,
   "metadata": {},
   "outputs": [],
   "source": [
    "# Basic dataset with three points.\n",
    "points_coordinates = torch.tensor([[0.3, 0.0], [0.7, 0.0]])\n",
    "point_cloud = Data(x=points_coordinates)\n",
    "\n",
    "batch = Batch.from_data_list([point_cloud])\n",
    "\n",
    "# Initialize the ground truth layer\n",
    "fixed_layer = ECTLayer(\n",
    "    ECTConfig(\n",
    "        ect_type=\"points\", # The type of ect\n",
    "        resolution=32, # Number of discretization steps\n",
    "        scale=8,\n",
    "        radius=1.0, # Radius of the ECT \n",
    "        normalized=False, # Whether to scale the ECT to the interval [0,1] \n",
    "        fixed=True # Learnable or fixed directions.\n",
    "        ),\n",
    "    v=generate_2d_directions(num_thetas=32)\n",
    ")\n",
    "\n",
    "\n",
    "# Generate all directions at the same spot at (0,1).\n",
    "num_thetas = 32\n",
    "v = torch.vstack(\n",
    "        [\n",
    "            torch.zeros_like(torch.linspace(0, 2*torch.pi, num_thetas)),\n",
    "            torch.ones_like(torch.linspace(0, 2*torch.pi, num_thetas)),\n",
    "        ]\n",
    "    )\n",
    "\n",
    "\n",
    "# Initialize the learnable layer\n",
    "learnable_layer = ECTLayer(\n",
    "    ECTConfig(\n",
    "        ect_type=\"points\", # The type of ect\n",
    "        resolution=32, # Number of discretization steps\n",
    "        scale=8,\n",
    "        radius=1.0, # Radius of the ECT \n",
    "        normalized=False, # Whether to scale the ECT to the interval [0,1] \n",
    "        fixed=False # Learnable or fixed directions.\n",
    "        ),\n",
    "    v=v\n",
    ")\n",
    "\n"
   ]
  },
  {
   "cell_type": "code",
   "execution_count": 67,
   "metadata": {},
   "outputs": [
    {
     "data": {
      "text/plain": [
       "<matplotlib.collections.PathCollection at 0x7fd4720418a0>"
      ]
     },
     "execution_count": 67,
     "metadata": {},
     "output_type": "execute_result"
    },
    {
     "data": {
      "image/png": "[encoded data removed]",
      "text/plain": [
       "<Figure size 640x480 with 1 Axes>"
      ]
     },
     "metadata": {},
     "output_type": "display_data"
    }
   ],
   "source": [
    "fixedv = fixed_layer.v.numpy()\n",
    "plt.scatter(fixedv[:,0],fixedv[:,1])"
   ]
  },
  {
   "cell_type": "code",
   "execution_count": 68,
   "metadata": {},
   "outputs": [
    {
     "data": {
      "text/plain": [
       "<matplotlib.collections.PathCollection at 0x7fd4720e6ef0>"
      ]
     },
     "execution_count": 68,
     "metadata": {},
     "output_type": "execute_result"
    },
    {
     "data": {
      "image/png": "[encoded data removed]",
      "text/plain": [
       "<Figure size 640x480 with 1 Axes>"
      ]
     },
     "metadata": {},
     "output_type": "display_data"
    }
   ],
   "source": [
    "learnablev = learnable_layer.v.detach().numpy()\n",
    "plt.scatter(learnablev[:,0],learnablev[:,1])"
   ]
  },
  {
   "cell_type": "code",
   "execution_count": null,
   "metadata": {},
   "outputs": [],
   "source": []
  },
  {
   "cell_type": "code",
   "execution_count": 69,
   "metadata": {},
   "outputs": [
    {
     "data": {
      "text/plain": [
       "<matplotlib.image.AxesImage at 0x7fd471f1f790>"
      ]
     },
     "execution_count": 69,
     "metadata": {},
     "output_type": "execute_result"
    },
    {
     "data": {
      "image/png": "[encoded data removed]",
      "text/plain": [
       "<Figure size 640x480 with 2 Axes>"
      ]
     },
     "metadata": {},
     "output_type": "display_data"
    }
   ],
   "source": [
    "# Compute the ECT and plot\n",
    "ect_groundtruth = fixed_layer(batch)\n",
    "ect = learnable_layer(batch)\n",
    "\n",
    "fig, axes = plt.subplots(1,2)\n",
    "\n",
    "ax = axes[0]\n",
    "ax.imshow(ect_groundtruth.squeeze().detach().cpu().numpy())\n",
    "\n",
    "ax = axes[1]\n",
    "ax.imshow(ect.squeeze().detach().cpu().numpy())\n"
   ]
  },
  {
   "cell_type": "markdown",
   "metadata": {},
   "source": [
    "Now we can start optimizing using pytorch."
   ]
  },
  {
   "cell_type": "code",
   "execution_count": 70,
   "metadata": {},
   "outputs": [
    {
     "name": "stdout",
     "output_type": "stream",
     "text": [
      "Epoch: 0, Loss: 0.24\n",
      "Epoch: 50, Loss: 0.06\n",
      "Epoch: 100, Loss: 0.01\n",
      "Epoch: 150, Loss: 0.00\n",
      "Epoch: 200, Loss: 0.00\n",
      "Epoch: 250, Loss: 0.00\n",
      "Epoch: 300, Loss: 0.00\n",
      "Epoch: 350, Loss: 0.00\n",
      "Epoch: 400, Loss: 0.00\n",
      "Epoch: 450, Loss: 0.00\n"
     ]
    }
   ],
   "source": [
    "optimizer = torch.optim.Adam(learnable_layer.parameters(),lr=0.01)\n",
    "loss_fn = nn.MSELoss()\n",
    "\n",
    "\n",
    "for epoch in range(500):\n",
    "    optimizer.zero_grad()\n",
    "    ect_pred = learnable_layer(batch)    \n",
    "    loss = loss_fn(ect_pred, ect_groundtruth)\n",
    "    loss.backward()\n",
    "    optimizer.step()\n",
    "\n",
    "    if epoch % 50 == 0: \n",
    "        print(f\"Epoch: {epoch}, Loss: {loss.item():.2f}\")\n",
    "\n",
    "\n"
   ]
  },
  {
   "cell_type": "code",
   "execution_count": 71,
   "metadata": {},
   "outputs": [
    {
     "data": {
      "text/plain": [
       "<matplotlib.image.AxesImage at 0x7fd471e03940>"
      ]
     },
     "execution_count": 71,
     "metadata": {},
     "output_type": "execute_result"
    },
    {
     "data": {
      "image/png": "[encoded data removed]",
      "text/plain": [
       "<Figure size 640x480 with 2 Axes>"
      ]
     },
     "metadata": {},
     "output_type": "display_data"
    }
   ],
   "source": [
    "# Compute the ECT and plot\n",
    "ect_groundtruth = fixed_layer(batch)\n",
    "ect = learnable_layer(batch)\n",
    "\n",
    "fig, axes = plt.subplots(1,2)\n",
    "\n",
    "ax = axes[0]\n",
    "ax.imshow(ect_groundtruth.squeeze().detach().cpu().numpy())\n",
    "\n",
    "ax = axes[1]\n",
    "ax.imshow(ect.squeeze().detach().cpu().numpy())"
   ]
  },
  {
   "cell_type": "code",
   "execution_count": null,
   "metadata": {},
   "outputs": [],
   "source": []
  }
 ],
 "metadata": {
  "kernelspec": {
   "display_name": ".venv",
   "language": "python",
   "name": "python3"
  },
  "language_info": {
   "codemirror_mode": {
    "name": "ipython",
    "version": 3
   },
   "file_extension": ".py",
   "mimetype": "text/x-python",
   "name": "python",
   "nbconvert_exporter": "python",
   "pygments_lexer": "ipython3",
   "version": "3.10.12"
  }
 },
 "nbformat": 4,
 "nbformat_minor": 2
}
